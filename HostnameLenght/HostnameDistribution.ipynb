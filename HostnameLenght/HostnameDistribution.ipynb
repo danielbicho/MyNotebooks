{
 "cells": [
  {
   "cell_type": "markdown",
   "metadata": {},
   "source": [
    "# Analyze of hostname length distribution collected from Arquivo.pt Crawler Logs"
   ]
  },
  {
   "cell_type": "code",
   "execution_count": 3,
   "metadata": {
    "collapsed": true
   },
   "outputs": [],
   "source": [
    "import numpy as np\n",
    "import matplotlib.pyplot as plt\n",
    "import pandas as pd\n",
    "import sys, os, re\n",
    "%matplotlib inline"
   ]
  },
  {
   "cell_type": "code",
   "execution_count": 4,
   "metadata": {
    "collapsed": false
   },
   "outputs": [],
   "source": [
    "df1 = pd.read_csv('awp15.hosts', sep =' ', index_col=False)\n",
    "df2 = pd.read_csv('fawp18.hosts', sep =' ', index_col=False)\n",
    "df3 = pd.read_csv('eawp16.hosts', sep =' ', index_col=False)"
   ]
  },
  {
   "cell_type": "markdown",
   "metadata": {},
   "source": [
    "Sample input"
   ]
  },
  {
   "cell_type": "code",
   "execution_count": 5,
   "metadata": {
    "collapsed": false
   },
   "outputs": [
    {
     "data": {
      "text/html": [
       "<div>\n",
       "<table border=\"1\" class=\"dataframe\">\n",
       "  <thead>\n",
       "    <tr style=\"text-align: right;\">\n",
       "      <th></th>\n",
       "      <th>[#urls]</th>\n",
       "      <th>[#bytes]</th>\n",
       "      <th>[host]</th>\n",
       "      <th>[#robots]</th>\n",
       "      <th>[#remaining]</th>\n",
       "    </tr>\n",
       "  </thead>\n",
       "  <tbody>\n",
       "    <tr>\n",
       "      <th>0</th>\n",
       "      <td>2878033</td>\n",
       "      <td>235766505</td>\n",
       "      <td>dns:</td>\n",
       "      <td>0</td>\n",
       "      <td>0</td>\n",
       "    </tr>\n",
       "    <tr>\n",
       "      <th>1</th>\n",
       "      <td>19994</td>\n",
       "      <td>216746449</td>\n",
       "      <td>www.esaf.pt</td>\n",
       "      <td>0</td>\n",
       "      <td>10495</td>\n",
       "    </tr>\n",
       "    <tr>\n",
       "      <th>2</th>\n",
       "      <td>19988</td>\n",
       "      <td>457434310</td>\n",
       "      <td>www.it.pt</td>\n",
       "      <td>0</td>\n",
       "      <td>9004</td>\n",
       "    </tr>\n",
       "    <tr>\n",
       "      <th>3</th>\n",
       "      <td>19988</td>\n",
       "      <td>781913912</td>\n",
       "      <td>www.staples.pt</td>\n",
       "      <td>0</td>\n",
       "      <td>10436</td>\n",
       "    </tr>\n",
       "    <tr>\n",
       "      <th>4</th>\n",
       "      <td>19985</td>\n",
       "      <td>278623745</td>\n",
       "      <td>www.nisbets.pt</td>\n",
       "      <td>0</td>\n",
       "      <td>23234</td>\n",
       "    </tr>\n",
       "  </tbody>\n",
       "</table>\n",
       "</div>"
      ],
      "text/plain": [
       "   [#urls]   [#bytes]          [host]  [#robots]  [#remaining]\n",
       "0  2878033  235766505            dns:          0             0\n",
       "1    19994  216746449     www.esaf.pt          0         10495\n",
       "2    19988  457434310       www.it.pt          0          9004\n",
       "3    19988  781913912  www.staples.pt          0         10436\n",
       "4    19985  278623745  www.nisbets.pt          0         23234"
      ]
     },
     "execution_count": 5,
     "metadata": {},
     "output_type": "execute_result"
    }
   ],
   "source": [
    "df1.head()"
   ]
  },
  {
   "cell_type": "code",
   "execution_count": 6,
   "metadata": {
    "collapsed": false
   },
   "outputs": [
    {
     "data": {
      "text/html": [
       "<div>\n",
       "<table border=\"1\" class=\"dataframe\">\n",
       "  <thead>\n",
       "    <tr style=\"text-align: right;\">\n",
       "      <th></th>\n",
       "      <th>[#urls]</th>\n",
       "      <th>[#bytes]</th>\n",
       "      <th>[host]</th>\n",
       "      <th>[#robots]</th>\n",
       "      <th>[#remaining]</th>\n",
       "      <th>[#novel-urls]</th>\n",
       "      <th>[#novel-bytes]</th>\n",
       "      <th>[#dup-by-hash-urls]</th>\n",
       "      <th>[#dup-by-hash-bytes]</th>\n",
       "      <th>[#not-modified-urls]</th>\n",
       "      <th>[#not-modified-bytes]</th>\n",
       "    </tr>\n",
       "  </thead>\n",
       "  <tbody>\n",
       "    <tr>\n",
       "      <th>0</th>\n",
       "      <td>6677</td>\n",
       "      <td>310970136</td>\n",
       "      <td>www.ionline.pt</td>\n",
       "      <td>74</td>\n",
       "      <td>9781</td>\n",
       "      <td>6677</td>\n",
       "      <td>310970136</td>\n",
       "      <td>0</td>\n",
       "      <td>0</td>\n",
       "      <td>0</td>\n",
       "      <td>0</td>\n",
       "    </tr>\n",
       "    <tr>\n",
       "      <th>1</th>\n",
       "      <td>5993</td>\n",
       "      <td>181149252</td>\n",
       "      <td>www.youtube.com</td>\n",
       "      <td>0</td>\n",
       "      <td>5109</td>\n",
       "      <td>5993</td>\n",
       "      <td>181149252</td>\n",
       "      <td>0</td>\n",
       "      <td>0</td>\n",
       "      <td>0</td>\n",
       "      <td>0</td>\n",
       "    </tr>\n",
       "    <tr>\n",
       "      <th>2</th>\n",
       "      <td>5677</td>\n",
       "      <td>488107246</td>\n",
       "      <td>www.publico.pt</td>\n",
       "      <td>0</td>\n",
       "      <td>9723</td>\n",
       "      <td>5677</td>\n",
       "      <td>488107246</td>\n",
       "      <td>0</td>\n",
       "      <td>0</td>\n",
       "      <td>0</td>\n",
       "      <td>0</td>\n",
       "    </tr>\n",
       "    <tr>\n",
       "      <th>3</th>\n",
       "      <td>5065</td>\n",
       "      <td>107138128</td>\n",
       "      <td>i.ytimg.com</td>\n",
       "      <td>0</td>\n",
       "      <td>8167</td>\n",
       "      <td>5065</td>\n",
       "      <td>107138128</td>\n",
       "      <td>0</td>\n",
       "      <td>0</td>\n",
       "      <td>0</td>\n",
       "      <td>0</td>\n",
       "    </tr>\n",
       "    <tr>\n",
       "      <th>4</th>\n",
       "      <td>5023</td>\n",
       "      <td>152834857</td>\n",
       "      <td>www.maisnorte.pt</td>\n",
       "      <td>3</td>\n",
       "      <td>256</td>\n",
       "      <td>5023</td>\n",
       "      <td>152834857</td>\n",
       "      <td>0</td>\n",
       "      <td>0</td>\n",
       "      <td>0</td>\n",
       "      <td>0</td>\n",
       "    </tr>\n",
       "  </tbody>\n",
       "</table>\n",
       "</div>"
      ],
      "text/plain": [
       "   [#urls]   [#bytes]            [host]  [#robots]  [#remaining]  \\\n",
       "0     6677  310970136    www.ionline.pt         74          9781   \n",
       "1     5993  181149252   www.youtube.com          0          5109   \n",
       "2     5677  488107246    www.publico.pt          0          9723   \n",
       "3     5065  107138128       i.ytimg.com          0          8167   \n",
       "4     5023  152834857  www.maisnorte.pt          3           256   \n",
       "\n",
       "   [#novel-urls]  [#novel-bytes]  [#dup-by-hash-urls]  [#dup-by-hash-bytes]  \\\n",
       "0           6677       310970136                    0                     0   \n",
       "1           5993       181149252                    0                     0   \n",
       "2           5677       488107246                    0                     0   \n",
       "3           5065       107138128                    0                     0   \n",
       "4           5023       152834857                    0                     0   \n",
       "\n",
       "   [#not-modified-urls]  [#not-modified-bytes]  \n",
       "0                     0                      0  \n",
       "1                     0                      0  \n",
       "2                     0                      0  \n",
       "3                     0                      0  \n",
       "4                     0                      0  "
      ]
     },
     "execution_count": 6,
     "metadata": {},
     "output_type": "execute_result"
    }
   ],
   "source": [
    "df2.head()"
   ]
  },
  {
   "cell_type": "code",
   "execution_count": 11,
   "metadata": {
    "collapsed": false
   },
   "outputs": [
    {
     "data": {
      "text/html": [
       "<div>\n",
       "<table border=\"1\" class=\"dataframe\">\n",
       "  <thead>\n",
       "    <tr style=\"text-align: right;\">\n",
       "      <th></th>\n",
       "      <th>[#urls]</th>\n",
       "      <th>[#bytes]</th>\n",
       "      <th>[host]</th>\n",
       "      <th>[#robots]</th>\n",
       "      <th>[#remaining]</th>\n",
       "    </tr>\n",
       "  </thead>\n",
       "  <tbody>\n",
       "    <tr>\n",
       "      <th>0</th>\n",
       "      <td>2021136</td>\n",
       "      <td>138120044</td>\n",
       "      <td>dns:</td>\n",
       "      <td>0</td>\n",
       "      <td>0</td>\n",
       "    </tr>\n",
       "    <tr>\n",
       "      <th>1</th>\n",
       "      <td>19994</td>\n",
       "      <td>991520731</td>\n",
       "      <td>www.mammoth-shop.eu</td>\n",
       "      <td>0</td>\n",
       "      <td>9386</td>\n",
       "    </tr>\n",
       "    <tr>\n",
       "      <th>2</th>\n",
       "      <td>19992</td>\n",
       "      <td>993749587</td>\n",
       "      <td>kidswholesale.eu</td>\n",
       "      <td>9427</td>\n",
       "      <td>36362</td>\n",
       "    </tr>\n",
       "    <tr>\n",
       "      <th>3</th>\n",
       "      <td>19992</td>\n",
       "      <td>2398767622</td>\n",
       "      <td>www.marksandspencer.eu</td>\n",
       "      <td>0</td>\n",
       "      <td>476943</td>\n",
       "    </tr>\n",
       "    <tr>\n",
       "      <th>4</th>\n",
       "      <td>19992</td>\n",
       "      <td>2170718023</td>\n",
       "      <td>www.notebookcheck.net</td>\n",
       "      <td>0</td>\n",
       "      <td>27269</td>\n",
       "    </tr>\n",
       "  </tbody>\n",
       "</table>\n",
       "</div>"
      ],
      "text/plain": [
       "   [#urls]    [#bytes]                  [host]  [#robots]  [#remaining]\n",
       "0  2021136   138120044                    dns:          0             0\n",
       "1    19994   991520731     www.mammoth-shop.eu          0          9386\n",
       "2    19992   993749587        kidswholesale.eu       9427         36362\n",
       "3    19992  2398767622  www.marksandspencer.eu          0        476943\n",
       "4    19992  2170718023   www.notebookcheck.net          0         27269"
      ]
     },
     "execution_count": 11,
     "metadata": {},
     "output_type": "execute_result"
    }
   ],
   "source": [
    "df3.head()"
   ]
  },
  {
   "cell_type": "code",
   "execution_count": 12,
   "metadata": {
    "collapsed": false
   },
   "outputs": [
    {
     "name": "stdout",
     "output_type": "stream",
     "text": [
      "Number of hostname entries: 1633504\n"
     ]
    }
   ],
   "source": [
    "# Concatenate Dataframes\n",
    "df_aux = df1.append(df2)\n",
    "df = df_aux.append(df3)\n",
    "\n",
    "# Get only hosts\n",
    "df = df[['[host]']]\n",
    "\n",
    "# number of entries\n",
    "print \"Number of hostname entries: %s\" % len(df['[host]'])"
   ]
  },
  {
   "cell_type": "code",
   "execution_count": 13,
   "metadata": {
    "collapsed": false
   },
   "outputs": [],
   "source": [
    "# Generate a new column with hostname length\n",
    "df['hostname_length'] = df['[host]'].str.len()"
   ]
  },
  {
   "cell_type": "code",
   "execution_count": 15,
   "metadata": {
    "collapsed": false
   },
   "outputs": [],
   "source": [
    "# remove dns: hosts\n",
    "df = df[df['[host]'] != 'dns:']"
   ]
  },
  {
   "cell_type": "code",
   "execution_count": 18,
   "metadata": {
    "collapsed": false
   },
   "outputs": [
    {
     "data": {
      "text/plain": [
       "count   1633499.000\n",
       "mean         20.855\n",
       "std           8.584\n",
       "min           2.000\n",
       "50%          20.000\n",
       "99%          50.000\n",
       "max         129.000\n",
       "Name: hostname_length, dtype: float64"
      ]
     },
     "execution_count": 18,
     "metadata": {},
     "output_type": "execute_result"
    }
   ],
   "source": [
    "pd.set_option('display.float_format', lambda x: '%.3f' % x)\n",
    "df['hostname_length'].describe(percentiles=[.99])"
   ]
  },
  {
   "cell_type": "code",
   "execution_count": null,
   "metadata": {
    "collapsed": true
   },
   "outputs": [],
   "source": []
  }
 ],
 "metadata": {
  "kernelspec": {
   "display_name": "Python 2",
   "language": "python",
   "name": "python2"
  },
  "language_info": {
   "codemirror_mode": {
    "name": "ipython",
    "version": 2
   },
   "file_extension": ".py",
   "mimetype": "text/x-python",
   "name": "python",
   "nbconvert_exporter": "python",
   "pygments_lexer": "ipython2",
   "version": "2.7.12"
  }
 },
 "nbformat": 4,
 "nbformat_minor": 0
}
