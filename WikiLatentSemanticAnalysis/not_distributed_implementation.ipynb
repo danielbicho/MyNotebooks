{
 "cells": [
  {
   "cell_type": "code",
   "execution_count": 6,
   "metadata": {
    "collapsed": true
   },
   "outputs": [],
   "source": [
    "import os\n",
    "import json\n",
    "import pandas as pd\n",
    "import re"
   ]
  },
  {
   "cell_type": "code",
   "execution_count": 7,
   "metadata": {
    "collapsed": false
   },
   "outputs": [],
   "source": [
    "documents_text = []\n",
    "document_map = []\n",
    "for wiki_folder in os.listdir('./wikitext/'):\n",
    "        for wiki_file in os.listdir(os.path.join('./wikitext',wiki_folder)):\n",
    "            with open(os.path.join(os.path.join('./wikitext',wiki_folder),wiki_file), mode='rb') as f:\n",
    "                #print \"Loading %s\" % os.path.join(os.path.join('./wikitext',wiki_folder),wiki_file)\n",
    "                for line in f:\n",
    "                    json_obj = json.loads(line)\n",
    "                    documents_text.append(json_obj['text'])               \n",
    "                    document_map.append(json_obj['url'])"
   ]
  },
  {
   "cell_type": "code",
   "execution_count": 8,
   "metadata": {
    "collapsed": false
   },
   "outputs": [
    {
     "name": "stdout",
     "output_type": "stream",
     "text": [
      "https://en.wikipedia.org/wiki?curid=14535\n",
      "6980\n"
     ]
    }
   ],
   "source": [
    "print document_map[0]\n",
    "print len(document_map)"
   ]
  },
  {
   "cell_type": "code",
   "execution_count": 9,
   "metadata": {
    "collapsed": true
   },
   "outputs": [],
   "source": [
    "from nltk.stem import WordNetLemmatizer\n",
    "def tokenize(text):\n",
    "    result_words = []\n",
    "    wordnet_lemmatizer = WordNetLemmatizer()\n",
    "    words = re.sub(r'[\\W_\\d]', ' ', text).lower().split()\n",
    "    for word in words:\n",
    "        result_words.append(wordnet_lemmatizer.lemmatize(word))\n",
    "    return result_words"
   ]
  },
  {
   "cell_type": "code",
   "execution_count": 10,
   "metadata": {
    "collapsed": false
   },
   "outputs": [],
   "source": [
    "from sklearn.feature_extraction.text import TfidfVectorizer\n",
    "vectorizer = TfidfVectorizer(stop_words='english', tokenizer = tokenize)\n",
    "termsDocumentsMatrix = vectorizer.fit_transform(documents_text)"
   ]
  },
  {
   "cell_type": "code",
   "execution_count": 11,
   "metadata": {
    "collapsed": false
   },
   "outputs": [
    {
     "data": {
      "text/plain": [
       "[u'aa',\n",
       " u'aaa',\n",
       " u'aaaa',\n",
       " u'aaaaa',\n",
       " u'aaaaaaaaaa',\n",
       " u'aaaaaaaaab',\n",
       " u'aaaabcdd',\n",
       " u'aaababbbbaab',\n",
       " u'aaabbbccc',\n",
       " u'aaai']"
      ]
     },
     "execution_count": 11,
     "metadata": {},
     "output_type": "execute_result"
    }
   ],
   "source": [
    "len(vectorizer.get_feature_names())\n",
    "terms = vectorizer.get_feature_names()\n",
    "terms[0:10]"
   ]
  },
  {
   "cell_type": "code",
   "execution_count": 44,
   "metadata": {
    "collapsed": false
   },
   "outputs": [
    {
     "data": {
      "text/plain": [
       "(157, 23503)"
      ]
     },
     "execution_count": 44,
     "metadata": {},
     "output_type": "execute_result"
    }
   ],
   "source": [
    "type(termsDocumentsMatrix)\n",
    "termsDocumentsMatrix.shape"
   ]
  },
  {
   "cell_type": "code",
   "execution_count": 28,
   "metadata": {
    "collapsed": true
   },
   "outputs": [],
   "source": [
    "from sklearn.decomposition import TruncatedSVD"
   ]
  },
  {
   "cell_type": "code",
   "execution_count": 34,
   "metadata": {
    "collapsed": false
   },
   "outputs": [],
   "source": [
    "svd = TruncatedSVD(n_components=5, n_iter=7, random_state=42)\n",
    "svdMatrix = svd.fit_transform(termsDocumentsMatrix)"
   ]
  },
  {
   "cell_type": "code",
   "execution_count": 55,
   "metadata": {
    "collapsed": false
   },
   "outputs": [
    {
     "data": {
      "text/plain": [
       "(5, 23503)"
      ]
     },
     "execution_count": 55,
     "metadata": {},
     "output_type": "execute_result"
    }
   ],
   "source": [
    "svd.components_.shape"
   ]
  },
  {
   "cell_type": "code",
   "execution_count": 57,
   "metadata": {
    "collapsed": false
   },
   "outputs": [
    {
     "data": {
      "text/plain": [
       "array([  7.83068063e-03,   6.74152193e-04,   7.14513748e-04,\n",
       "         2.71815647e-03,   4.18177918e-04,   1.04259034e-04,\n",
       "         7.34830897e-03,   1.72477718e-04,   6.96271533e-04,\n",
       "         5.21295169e-05])"
      ]
     },
     "execution_count": 57,
     "metadata": {},
     "output_type": "execute_result"
    }
   ],
   "source": [
    "svd.components_[0][0:10]"
   ]
  },
  {
   "cell_type": "code",
   "execution_count": 72,
   "metadata": {
    "collapsed": false
   },
   "outputs": [
    {
     "name": "stdout",
     "output_type": "stream",
     "text": [
      "Concept:\n",
      "abandon\n",
      "piperidines\n",
      "biomimetics\n",
      "insectoids\n",
      "dormancy\n",
      "\n",
      "\n",
      "\n",
      "\n",
      "Concept:\n",
      "india\n",
      "indian\n",
      "sector\n",
      "service\n",
      "ha\n",
      "\n",
      "\n",
      "\n",
      "\n",
      "Concept:\n",
      "wa\n",
      "island\n",
      "aegina\n",
      "roman\n",
      "asimov\n",
      "\n",
      "\n",
      "\n",
      "\n",
      "Concept:\n",
      "india\n",
      "indian\n",
      "island\n",
      "ajmer\n",
      "ocean\n",
      "\n",
      "\n",
      "\n",
      "\n",
      "Concept:\n",
      "asimov\n",
      "india\n",
      "s\n",
      "party\n",
      "law\n",
      "\n",
      "\n",
      "\n",
      "\n"
     ]
    }
   ],
   "source": [
    "# find top terms for each concept\n",
    "import numpy as np\n",
    "\n",
    "for i in range(0,svd.components_.shape[0]):    \n",
    "    sortedTerms = np.argsort(svd.components_[i])\n",
    "    print \"Concept:\"\n",
    "    for k in range(5):\n",
    "        print terms[sortedTerms[k]]\n",
    "    print \"\\n\\n\\n\""
   ]
  },
  {
   "cell_type": "code",
   "execution_count": null,
   "metadata": {
    "collapsed": true
   },
   "outputs": [],
   "source": []
  }
 ],
 "metadata": {
  "kernelspec": {
   "display_name": "Python 2",
   "language": "python",
   "name": "python2"
  },
  "language_info": {
   "codemirror_mode": {
    "name": "ipython",
    "version": 2
   },
   "file_extension": ".py",
   "mimetype": "text/x-python",
   "name": "python",
   "nbconvert_exporter": "python",
   "pygments_lexer": "ipython2",
   "version": "2.7.12"
  }
 },
 "nbformat": 4,
 "nbformat_minor": 0
}
